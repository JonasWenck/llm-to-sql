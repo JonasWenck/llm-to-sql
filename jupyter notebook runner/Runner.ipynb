{
 "cells": [
  {
   "cell_type": "markdown",
   "id": "ba21eb09-524f-4e02-8493-76caa8f2aad8",
   "metadata": {},
   "source": [
    "# Automatic Runner"
   ]
  },
  {
   "cell_type": "code",
   "execution_count": null,
   "id": "7a0f6a57-1938-4d1b-a2ed-2b6495bc7b4a",
   "metadata": {
    "ExecuteTime": {
     "end_time": "2024-03-17T13:27:55.509759Z",
     "start_time": "2024-03-17T13:27:53.780363Z"
    }
   },
   "outputs": [],
   "source": [
    "import os\n",
    "from dotenv import load_dotenv\n",
    "from datetime import datetime\n",
    "from IPython.display import clear_output\n",
    "\n",
    "import new_zealand\n",
    "import covid\n",
    "import weather\n",
    "import phi2\n",
    "import pipsql\n",
    "import llama2\n",
    "import sqlcoder\n",
    "import gpt4\n",
    "\n",
    "models = ['llama-2', 'phi2', 'sqlcoder', 'pip-sql', 'gpt-4']\n",
    "datasets = ['new_zealand', 'covid', 'weather']\n",
    "load_dotenv()\n",
    "hf_cache_directory = os.getenv(\"HF_CACHE_DIRECTORY\")\n",
    "access_token = os.getenv(\"ACCESS_TOKEN\")\n",
    "client = os.getenv(\"CLIENT\")\n",
    "\n",
    "print(\"Hugging face cache directory from ENV: \" + str(hf_cache_directory))\n",
    "print(\"Client from ENV: \" + str(client))"
   ]
  },
  {
   "cell_type": "code",
   "execution_count": null,
   "id": "671a87ad-8922-4fdb-9c24-91669b009560",
   "metadata": {
    "ExecuteTime": {
     "start_time": "2024-03-17T13:27:55.510764Z"
    },
    "is_executing": true
   },
   "outputs": [],
   "source": [
    "start_time = datetime.now()\n",
    "for model in models:\n",
    "    for dataset in datasets:\n",
    "        if dataset == 'new_zealand':\n",
    "            ddl = new_zealand.ddl\n",
    "            prompts = new_zealand.prompts\n",
    "            additional_context = new_zealand.additional_context\n",
    "    \n",
    "        elif dataset == 'covid': \n",
    "            ddl = covid.ddl\n",
    "            prompts = covid.prompts\n",
    "            additional_context = covid.additional_context\n",
    "    \n",
    "        elif dataset == 'weather':\n",
    "            ddl = weather.ddl\n",
    "            prompts = weather.prompts\n",
    "            additional_context = weather.additional_context\n",
    "\n",
    "        # let model create all \n",
    "        if model == 'llama-2':\n",
    "            llama2.run(client, ddl, prompts, hf_cache_directory, dataset, access_token)\n",
    "            llama2.run(client, ddl, prompts, hf_cache_directory, dataset, access_token, additional_context)\n",
    "            \n",
    "        elif model == 'phi2':\n",
    "            phi2.run(client, ddl, prompts, hf_cache_directory, dataset)\n",
    "            phi2.run(client, ddl, prompts, hf_cache_directory, dataset, additional_context)\n",
    "\n",
    "        elif model == 'sqlcoder':\n",
    "            sqlcoder.run(client, ddl, prompts, hf_cache_directory, dataset)\n",
    "            sqlcoder.run(client, ddl, prompts, hf_cache_directory, dataset, additional_context)\n",
    "\n",
    "        elif model == 'pip-sql':\n",
    "            pipsql.run(client, ddl, prompts, hf_cache_directory, dataset)\n",
    "            pipsql.run(client, ddl, prompts, hf_cache_directory, dataset, additional_context)\n",
    "\n",
    "        elif model == 'gpt-4':\n",
    "            gpt4.run(client, ddl, prompts, dataset)\n",
    "            gpt4.run(client, ddl, prompts, dataset, additional_context)\n",
    "\n",
    "clear_output(wait=True)\n",
    "\n",
    "end_time = datetime.now()\n",
    "duration = end_time - start_time\n",
    "\n",
    "duration = str(duration.total_seconds())\n",
    "print('Runner finished with all models and datasets. elapsed time: ' + duration + ' seconds')"
   ]
  }
 ],
 "metadata": {
  "kernelspec": {
   "display_name": "Python 3 (ipykernel)",
   "language": "python",
   "name": "python3"
  },
  "language_info": {
   "codemirror_mode": {
    "name": "ipython",
    "version": 3
   },
   "file_extension": ".py",
   "mimetype": "text/x-python",
   "name": "python",
   "nbconvert_exporter": "python",
   "pygments_lexer": "ipython3",
   "version": "3.11.5"
  }
 },
 "nbformat": 4,
 "nbformat_minor": 5
}
