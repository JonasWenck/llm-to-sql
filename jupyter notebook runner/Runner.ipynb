{
 "cells": [
  {
   "cell_type": "markdown",
   "id": "ba21eb09-524f-4e02-8493-76caa8f2aad8",
   "metadata": {},
   "source": [
    "# Automatic Runner"
   ]
  },
  {
   "cell_type": "code",
   "execution_count": null,
   "id": "7a0f6a57-1938-4d1b-a2ed-2b6495bc7b4a",
   "metadata": {},
   "outputs": [],
   "source": [
    "import os\n",
    "from dotenv import load_dotenv\n",
    "\n",
    "import new_zealand\n",
    "import covid\n",
    "import weather\n",
    "import phi2\n",
    "import pipsql\n",
    "import llama2\n",
    "\n",
    "models = ['llama-2', 'phi2', 'sqlcoder2', 'pip-sql']\n",
    "datasets = ['new_zealand', 'covid', 'weather']\n",
    "load_dotenv()\n",
    "hf_cache_directory = os.getenv(\"HF_CACHE_DIRECTORY\")\n",
    "access_token = os.getenv(\"ACCESS_TOKEN\")\n",
    "# cpu/gpu_3070/gpu_4090\n",
    "client = os.getenv(\"CLIENT\")\n",
    "\n",
    "print(\"Hugging face cache directory from ENV: \" + str(hf_cache_directory))\n",
    "print(\"Client from ENV: \" + str(client))"
   ]
  },
  {
   "cell_type": "code",
   "execution_count": null,
   "id": "671a87ad-8922-4fdb-9c24-91669b009560",
   "metadata": {},
   "outputs": [],
   "source": [
    "for model in models:\n",
    "    for dataset in datasets:\n",
    "        if dataset == 'new_zealand':\n",
    "            ddl = new_zealand.ddl\n",
    "            prompts = new_zealand.prompts\n",
    "    \n",
    "        elif dataset == 'covid': \n",
    "            ddl = covid.ddl\n",
    "            prompts = covid.prompts\n",
    "    \n",
    "        elif dataset == 'weather':\n",
    "            ddl = weather.ddl\n",
    "            prompts = weather.prompts\n",
    "\n",
    "        # let model create all \n",
    "        if model == 'llama-2':\n",
    "            llama2.run(client, ddl, prompts, hf_cache_directory, dataset, access_token)\n",
    "            pass\n",
    "            \n",
    "        elif model == 'phi2':\n",
    "            phi2.run(client, ddl, prompts, hf_cache_directory, dataset)\n",
    "            pass\n",
    "\n",
    "        elif model == 'sqlcoder2':\n",
    "            #sqlcoder2.run(client, ddl, prompts, hf_cache_directory, dataset)\n",
    "            pass\n",
    "\n",
    "        elif model == 'pip-sql':\n",
    "            pipsql.run(client, ddl, prompts, hf_cache_directory, dataset)\n",
    "            pass"
   ]
  }
 ],
 "metadata": {
  "kernelspec": {
   "display_name": "Python 3 (ipykernel)",
   "language": "python",
   "name": "python3"
  },
  "language_info": {
   "codemirror_mode": {
    "name": "ipython",
    "version": 3
   },
   "file_extension": ".py",
   "mimetype": "text/x-python",
   "name": "python",
   "nbconvert_exporter": "python",
   "pygments_lexer": "ipython3",
   "version": "3.11.5"
  }
 },
 "nbformat": 4,
 "nbformat_minor": 5
}
